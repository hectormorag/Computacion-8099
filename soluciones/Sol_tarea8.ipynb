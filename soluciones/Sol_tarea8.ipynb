{
 "cells": [
  {
   "cell_type": "markdown",
   "metadata": {},
   "source": [
    "# Solución a la tarea 8"
   ]
  },
  
  {
   "cell_type": "markdown",
   "metadata": {},
   "source": [
    "Este programa implementado en Julia, resuelve el siguiente sistema de  [ecuaciones lineales](https://es.wikipedia.org/wiki/Sistema_de_ecuaciones_lineales) utilizando el método de la matriz inversa (este método también es conocido como [eliminación de Gauss-Jordan](https://es.wikipedia.org/wiki/Eliminaci%C3%B3n_de_Gauss-Jordan),  \n",
    "\n",
    "\\begin{array}{rr}{x_{1}+\\frac{1}{2}x_{2}+\\frac{1}{3}x_{3}=} & {5} \\\\ {\\frac{1}{4} x_{1}+\\frac{1}{5} x_{2}+\\frac{1}{6} x_{3}=} & {2} \\\\ {\\frac{1}{7}x_{1}+\\frac{1}{8} x_{2}+ \\frac{1}{9}x_{3}=} & {1}.\\end{array}"
   ]
  },
  {
   "cell_type": "markdown",
   "metadata": {},
   "source": [
    "Lo primero que tenemos que hacer es plantear el mismo sistema de ecuaciones en notación matricial. Utilizando las reglas básicas de operaciones matriciales, podemos reescribir nuestro sistema de ecuaciones como: \n",
    "\n",
    "\n",
    "$$\\left(\\begin{array}{ccc}{1} & {\\frac{1}{2}} & {\\frac{1}{3}} \\\\ {\\frac{1}{4}} & {\\frac{1}{5}} & {\\frac{1}{6}} \\\\ {\\frac{1}{7}} & {\\frac{1}{8}} & {\\frac{1}{9}}\\end{array}\\right)\\left(\\begin{array}{c}{x_{1}} \\\\ {x_{2}} \\\\ {x_{3}}\\end{array}\\right)=\\left(\\begin{array}{c}{5} \\\\ {2} \\\\ {1}\\end{array}\\right)$$"
   ]
  },
  {
   "cell_type": "markdown",
   "metadata": {},
   "source": [
    "Si denotamos a la matriz de los coeficientes de nuestro sistema de ecuaciones como $A$; a la matriz de las incógnitas como $x$ y a la matriz de los términos independientes como $b$, podemos reescribir lo anterior como: \n",
    "\n",
    "$$Ax=b$$"
   ]
  },
  {
   "cell_type": "markdown",
   "metadata": {},
   "source": [
    "Para encontrar la solución a nuestro sistema, habrá que \"despejar\" $x$ en la ecuación anterior. Recordemos las siguientes propiedades de las matrices:\n",
    "\n",
    "1. Cualquier matriz multiplizada por su inversa (si es que tiene), nos da la matriz identidad (i.e. $A \\cdot A^{-1}=A^{-1} \\cdot A=I_{n}$).\n",
    "2. Cualquier matriz multiplicada por la matriz identidad, nos da la misma matriz (i.e. $I_{n} \\cdot b = b \\cdot I_{n}=b $).\n",
    "\n",
    "Entonces, para despejar x en nuestra ecuación basta hacer lo siguiente:\n",
    "\n",
    "$$A^{-1}A x= A^{-1}b $$\n",
    "\n",
    "Entonces, \n",
    "\n",
    "$$x=A^{-1}b$$.\n",
    "\n",
    "Ojo: aquí hay un detalle. Las matrices, a diferencia de los números reales no son conmutativas. Si deciden que del lado izquierdo, van a multiplicar la matriz inversa del lado izquierdo, deben hacer exactamente lo mismo del lado derecho de la ecuación. Pueden consultar esta [referencia](https://www.quora.com/When-can-we-apply-matrix-operations-to-both-sides-of-the-equation-to-solve-linear-systems) para obtener más información. "
   ]
  },
  {
   "cell_type": "markdown",
   "metadata": {},
   "source": [
    "Finalmente, vimos que nuestro problema se reduce a encontrar la matriz inversa de nuestra matriz de coeficientes y multiplicarla (cuidando de qué lado) con la matriz de términos independientes. El problema de cómo encontrar la matriz inversa es un poco complicado, pues el algoritmo que hay que implementar escapa a los objetivos de este curso (eso lo van a ver en su curso de física computacional de séptimo semestre). Para nuestra fortuna, Julia ya tiene una función en una de sus muchas librerías que encuentra la matriz inversa por nosotros. "
   ]
  },
  {
   "cell_type": "markdown",
   "metadata": {},
   "source": [
    "Ahora sí ¡implementemos el programa!"
   ]
  },
  {
   "cell_type": "markdown",
   "metadata": {},
   "source": [
    "Mandamos a llamar a la librería (colección de funciones útiles que alguien más ya implementó por nosotros):"
   ]
  },
  {
   "cell_type": "code",
   "execution_count": 9,
   "metadata": {},
   "outputs": [
    {
     "data": {
      "text/plain": [
       "3-element Array{Float64,1}:\n",
       " -14.0\n",
       "  80.0\n",
       " -63.0"
      ]
     },
     "execution_count": 9,
     "metadata": {},
     "output_type": "execute_result"
    }
   ],
   "source": [
    "#comenté esta línea de código ↓ porque en mi versión de Julia, no es necesario mandar a llamar a la librería.\n",
    "#using LinearAlgebra \n",
    "A=[1 1/2 1/3; 1/4 1/5 1/6; 1/7 1/8 1/9] #defino matriz de coeficientes\n",
    "b=[5; 2; 1] # defino matriz de términos independientes\n",
    "x=inv(A)*b #respeto el orden de la multiplicación "
   ]
  },
  {
   "cell_type": "markdown",
   "metadata": {},
   "source": [
    "Por lo tanto, nuestra solución es la matriz $$\\left(\\begin{array}{c}{-14} \\\\ {80} \\\\ {63}\\end{array}\\right)$$"
   ]
  },
  {
   "cell_type": "markdown",
   "metadata": {},
   "source": [
    "Finalmente, podemos escribirlo como: $x_{1}=-14$,  $x_{2}=80$  y $x_{3}=63$. Comprueben que es solución sustituyendo estos valores en su sistema de ecuaciones. "
   ]
  },
  {
   "cell_type": "markdown",
   "metadata": {},
   "source": [
    "En este notebook, además de poder revisar su solución, espero haberlos motivado un poquito a que les dé curiosidad usar Jupyter. Es una herramienta muy versátil que funciona con muchos lenguajes de programación. Se pueden hacer cosas muy interesantes con esto; desde elaborar presentaciones hasta hacer animaciones o montar una página web. Además, es muy bien valorada dentro de la academia (los que vayan a dedicarse a la física 👩‍🏫👩‍🎓👨‍🎓👨‍🏫) como fuera de ella (sector privado y ciencias aplicadas 👨‍💼👩‍💼👨‍🔬👩‍🔬).   "
   ]
  }
}
